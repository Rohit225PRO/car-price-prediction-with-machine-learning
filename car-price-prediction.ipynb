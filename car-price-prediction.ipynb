{
 "cells": [
  {
   "cell_type": "markdown",
   "metadata": {},
   "source": [
    "# 🚗 Car Price Prediction with Machine Learning\n",
    "\n",
    "Welcome to this state-of-the-art notebook on **Car Price Prediction** using Machine Learning. In this project, we will:\n",
    "\n",
    "- Explore and understand the dataset.\n",
    "- Visualize relationships between features and car prices.\n",
    "- Build a predictive model using advanced regression techniques.\n",
    "- Evaluate and interpret the model's performance.\n",
    "\n",
    "Let's get started! 🛠️"
   ]
  },
  {
   "cell_type": "code",
   "metadata": {},
   "source": [
    "# 📦 Importing Required Libraries\n",
    "import pandas as pd\n",
    "import numpy as np\n",
    "import matplotlib.pyplot as plt\n",
    "import seaborn as sns\n",
    "from sklearn.model_selection import train_test_split, GridSearchCV\n",
    "from sklearn.ensemble import RandomForestRegressor\n",
    "from sklearn.metrics import mean_absolute_error, mean_squared_error, r2_score\n",
    "\n",
    "sns.set(style=\"whitegrid\")  # Aesthetic plots"
   ],
   "execution_count": 1,
   "outputs": []
  },
  {
   "cell_type": "markdown",
   "metadata": {},
   "source": [
    "## 📑 Load the Dataset\n",
    "\n",
    "We will use the `car data.csv` file located in the same directory. This dataset includes various features like brand, model, year, horsepower, mileage, etc."
   ]
  },
  {
   "cell_type": "code",
   "metadata": {},
   "source": [
    "# 🔍 Load the dataset\n",
    "df = pd.read_csv(\"car data.csv\")\n",
    "\n",
    "# Quick preview\n",
    "df.head()"
   ],
   "execution_count": 2,
   "outputs": []
  },
  {
   "cell_type": "markdown",
   "metadata": {},
   "source": [
    "## 🧹 Data Cleaning and Exploration\n",
    "\n",
    "Let's inspect the dataset for missing values, data types, and descriptive statistics."
   ]
  },
  {
   "cell_type": "code",
   "metadata": {},
   "source": [
    "# Dataset information\n",
    "df.info()\n",
    "\n",
    "# Check for missing values\n",
    "df.isnull().sum()\n",
    "\n",
    "# Descriptive statistics\n",
    "df.describe()"
   ],
   "execution_count": 3,
   "outputs": []
  },
  {
   "cell_type": "markdown",
   "metadata": {},
   "source": [
    "## 📊 Data Visualization\n",
    "\n",
    "Let's visualize relationships between the features and car price."
   ]
  },
  {
   "cell_type": "code",
   "metadata": {},
   "source": [
    "# Plot price distribution\n",
    "plt.figure(figsize=(10, 5))\n",
    "sns.histplot(df['Selling_Price'], kde=True, bins=30, color='teal')\n",
    "plt.title(\"Distribution of Selling Prices\")\n",
    "plt.xlabel(\"Selling Price (in lakhs)\")\n",
    "plt.ylabel(\"Frequency\")\n",
    "plt.show()\n",
    "\n",
    "# Correlation heatmap\n",
    "plt.figure(figsize=(12, 8))\n",
    "sns.heatmap(df.corr(), annot=True, cmap=\"coolwarm\", linewidths=0.5)\n",
    "plt.title(\"Feature Correlations\")\n",
    "plt.show()"
   ],
   "execution_count": 4,
   "outputs": []
  },
  {
   "cell_type": "markdown",
   "metadata": {},
   "source": [
    "## 🛠️ Feature Engineering\n",
    "\n",
    "Handle categorical variables and select relevant features."
   ]
  },
  {
   "cell_type": "code",
   "metadata": {},
   "source": [
    "# Encode categorical variables\n",
    "df_encoded = pd.get_dummies(df, drop_first=True)\n",
    "\n",
    "# Feature selection\n",
    "X = df_encoded.drop('Selling_Price', axis=1)\n",
    "y = df_encoded['Selling_Price']"
   ],
   "execution_count": 5,
   "outputs": []
  },
  {
   "cell_type": "markdown",
   "metadata": {},
   "source": [
    "## 🔥 Model Building\n",
    "\n",
    "We'll use a **Random Forest Regressor** for its robustness and strong performance on structured data."
   ]
  },
  {
   "cell_type": "code",
   "metadata": {},
   "source": [
    "# Split the dataset\n",
    "X_train, X_test, y_train, y_test = train_test_split(X, y, test_size=0.2, random_state=42)\n",
    "\n",
    "# Initialize the model\n",
    "rf_model = RandomForestRegressor(random_state=42)\n",
    "\n",
    "# Hyperparameter tuning (optional)\n",
    "param_grid = {\n",
    "    'n_estimators': [100, 200, 300],\n",
    "    'max_depth': [None, 10, 20, 30],\n",
    "    'min_samples_split': [2, 5, 10]\n",
    "}\n",
    "\n",
    "grid_search = GridSearchCV(estimator=rf_model, param_grid=param_grid,\n",
    "                           cv=5, scoring='r2', n_jobs=-1, verbose=2)\n",
    "\n",
    "grid_search.fit(X_train, y_train)\n",
    "\n",
    "# Best model\n",
    "best_model = grid_search.best_estimator_\n",
    "print(f\"Best parameters: {grid_search.best_params_}\")"
   ],
   "execution_count": 6,
   "outputs": []
  },
  {
   "cell_type": "markdown",
   "metadata": {},
   "source": [
    "## 📈 Model Evaluation\n",
    "\n",
    "Let's evaluate the performance of our model using key metrics."
   ]
  },
  {
   "cell_type": "code",
   "metadata": {},
   "source": [
    "# Predict on test set\n",
    "y_pred = best_model.predict(X_test)\n",
    "\n",
    "# Evaluation metrics\n",
    "mae = mean_absolute_error(y_test, y_pred)\n",
    "mse = mean_squared_error(y_test, y_pred)\n",
    "rmse = np.sqrt(mse)\n",
    "r2 = r2_score(y_test, y_pred)\n",
    "\n",
    "print(f\"Mean Absolute Error (MAE): {mae:.2f}\")\n",
    "print(f\"Root Mean Squared Error (RMSE): {rmse:.2f}\")\n",
    "print(f\"R² Score: {r2:.2f}\")"
   ],
   "execution_count": 7,
   "outputs": []
  },
  {
   "cell_type": "markdown",
   "metadata": {},
   "source": [
    "## 📝 Conclusion\n",
    "\n",
    "In this project, we built a **state-of-the-art car price prediction model** using Random Forest Regression. We:\n",
    "\n",
    "- Explored and visualized the dataset.\n",
    "- Engineered features and handled categorical variables.\n",
    "- Tuned hyperparameters for optimal performance.\n",
    "- Evaluated the model using robust metrics.\n",
    "\n",
    "This pipeline is fully extendable to other car datasets and can be enhanced by integrating more features like brand reputation, safety ratings, and consumer reviews. 🚀"
   ]
  }
 ],
 "metadata": {
  "kernelspec": {
   "display_name": "Python 3",
   "language": "python",
   "name": "python3"
  },
  "language_info": {
   "name": "python",
   "version": "3.9.17"
  }
 },
 "nbformat": 4,
 "nbformat_minor": 5
}
